{
  "nbformat": 4,
  "nbformat_minor": 0,
  "metadata": {
    "colab": {
      "name": "Fashion_MNIST_Dataset",
      "provenance": [],
      "collapsed_sections": [],
      "authorship_tag": "ABX9TyMqE6QgaiGtyZlAQlTtifjq",
      "include_colab_link": true
    },
    "kernelspec": {
      "name": "python3",
      "display_name": "Python 3"
    }
  },
  "cells": [
    {
      "cell_type": "markdown",
      "metadata": {
        "id": "view-in-github",
        "colab_type": "text"
      },
      "source": [
        "<a href=\"https://colab.research.google.com/github/Roubish/Fashion-MNIST-Dataset/blob/main/Fashion_MNIST_Dataset.ipynb\" target=\"_parent\"><img src=\"https://colab.research.google.com/assets/colab-badge.svg\" alt=\"Open In Colab\"/></a>"
      ]
    },
    {
      "cell_type": "markdown",
      "metadata": {
        "id": "tGVTy0jwQ_rh"
      },
      "source": [
        "# Classify Clothes from Fashion MNIST Dataset using Machine Learning Techniques "
      ]
    },
    {
      "cell_type": "code",
      "metadata": {
        "id": "mPB92cMwRKM_"
      },
      "source": [
        "#importing the necessary modules.\r\n",
        "import numpy as np    \r\n",
        "import pandas as pd\r\n",
        "import gzip\r\n",
        "%matplotlib inline\r\n",
        "import matplotlib\r\n",
        "import matplotlib.pyplot as plt"
      ],
      "execution_count": 9,
      "outputs": []
    },
    {
      "cell_type": "code",
      "metadata": {
        "id": "K1DBthEcRxZ7"
      },
      "source": [
        "def showImage(data):\r\n",
        "    some_article = data   # Selecting the image.\r\n",
        "    some_article_image = some_article.reshape(28, 28) # Reshaping it to get the 28x28 pixels\r\n",
        "    plt.imshow(some_article_image, cmap = matplotlib.cm.binary, interpolation=\"nearest\")\r\n",
        "    plt.axis(\"off\")\r\n",
        "    plt.show()"
      ],
      "execution_count": 10,
      "outputs": []
    },
    {
      "cell_type": "code",
      "metadata": {
        "id": "HeRpGGi8SAPd"
      },
      "source": [
        "# The below variable contains location path for Training dataset\r\n",
        "filePath_train_set = 'train-images-idx3-ubyte.gz'\r\n",
        "filePath_train_label = 'train-labels-idx1-ubyte.gz'\r\n",
        "filePath_test_set = 't10k-images-idx3-ubyte.gz'\r\n",
        "filePath_test_label = 't10k-labels-idx1-ubyte.gz'"
      ],
      "execution_count": 11,
      "outputs": []
    },
    {
      "cell_type": "code",
      "metadata": {
        "id": "lx3zDzS7VipG"
      },
      "source": [
        "with gzip.open(filePath_train_label, 'rb') as trainLbpath:\r\n",
        "     trainLabel = np.frombuffer(trainLbpath.read(), dtype=np.uint8,\r\n",
        "                               offset=8)\r\n",
        "with gzip.open(filePath_train_set, 'rb') as trainSetpath:\r\n",
        "     trainSet = np.frombuffer(trainSetpath.read(), dtype=np.uint8,\r\n",
        "                               offset=16).reshape(len(trainLabel), 784)\r\n",
        "\r\n",
        "with gzip.open(filePath_test_label, 'rb') as testLbpath:\r\n",
        "     testLabel = np.frombuffer(testLbpath.read(), dtype=np.uint8,\r\n",
        "                               offset=8)\r\n",
        "\r\n",
        "with gzip.open(filePath_test_set, 'rb') as testSetpath:\r\n",
        "     testSet = np.frombuffer(testSetpath.read(), dtype=np.uint8,\r\n",
        "                               offset=16).reshape(len(testLabel), 784)"
      ],
      "execution_count": 12,
      "outputs": []
    },
    {
      "cell_type": "code",
      "metadata": {
        "colab": {
          "base_uri": "https://localhost:8080/"
        },
        "id": "iLq6qSItV0nx",
        "outputId": "7791eae7-2675-4797-b14b-473570715fbf"
      },
      "source": [
        "print(type(testLabel))\r\n",
        "print(trainSet.shape)\r\n",
        "print(trainLabel.shape)\r\n",
        "print(testSet.shape)\r\n",
        "print(testLabel.shape)\r\n",
        "X_train, X_test, y_train, y_test = trainSet, testSet, trainLabel, testLabel"
      ],
      "execution_count": 15,
      "outputs": [
        {
          "output_type": "stream",
          "text": [
            "<class 'numpy.ndarray'>\n",
            "(60000, 784)\n",
            "(60000,)\n",
            "(10000, 784)\n",
            "(10000,)\n"
          ],
          "name": "stdout"
        }
      ]
    },
    {
      "cell_type": "code",
      "metadata": {
        "colab": {
          "base_uri": "https://localhost:8080/"
        },
        "id": "0uuIz8pvWEbj",
        "outputId": "76727243-7c1f-40d1-fbf8-6442a0de9491"
      },
      "source": [
        "print(X_train.shape)\r\n",
        "print(y_train.shape)\r\n",
        "print(X_test.shape)\r\n",
        "print(y_test.shape)"
      ],
      "execution_count": 16,
      "outputs": [
        {
          "output_type": "stream",
          "text": [
            "(60000, 784)\n",
            "(60000,)\n",
            "(10000, 784)\n",
            "(10000,)\n"
          ],
          "name": "stdout"
        }
      ]
    },
    {
      "cell_type": "code",
      "metadata": {
        "colab": {
          "base_uri": "https://localhost:8080/",
          "height": 248
        },
        "id": "2CmuK_60Wm7N",
        "outputId": "93e650d0-8f50-4a3a-a850-b432a718651e"
      },
      "source": [
        "# Please use the showImage() created earlier to show image at X_train[0] as shown below\r\n",
        "showImage(X_train[0])"
      ],
      "execution_count": 17,
      "outputs": [
        {
          "output_type": "display_data",
          "data": {
            "image/png": "[encoded data removed]",
            "text/plain": [
              "<Figure size 432x288 with 1 Axes>"
            ]
          },
          "metadata": {
            "tags": [],
            "needs_background": "light"
          }
        }
      ]
    },
    {
      "cell_type": "code",
      "metadata": {
        "colab": {
          "base_uri": "https://localhost:8080/"
        },
        "id": "lu2U_NpPWqC3",
        "outputId": "5fd3187b-174d-4ceb-975a-5ab882205b1e"
      },
      "source": [
        "# Please check the corresponding article name (class) in target dataset (y_train[0]) if it matches the above image by using below code\r\n",
        "y_train[0]"
      ],
      "execution_count": 18,
      "outputs": [
        {
          "output_type": "execute_result",
          "data": {
            "text/plain": [
              "5"
            ]
          },
          "metadata": {
            "tags": []
          },
          "execution_count": 18
        }
      ]
    },
    {
      "cell_type": "code",
      "metadata": {
        "colab": {
          "base_uri": "https://localhost:8080/",
          "height": 248
        },
        "id": "3FP3_UtBW2za",
        "outputId": "54d702a4-4292-4878-b7ee-4d1cda83ade4"
      },
      "source": [
        "showImage(X_train[1128])"
      ],
      "execution_count": 121,
      "outputs": [
        {
          "output_type": "display_data",
          "data": {
            "image/png": "[encoded data removed]",
            "text/plain": [
              "<Figure size 432x288 with 1 Axes>"
            ]
          },
          "metadata": {
            "tags": [],
            "needs_background": "light"
          }
        }
      ]
    },
    {
      "cell_type": "code",
      "metadata": {
        "colab": {
          "base_uri": "https://localhost:8080/"
        },
        "id": "MS5wpdNWXBis",
        "outputId": "67208dcb-a9d1-43d6-d7b5-35e177ba1cd6"
      },
      "source": [
        "y_train[1128]"
      ],
      "execution_count": 122,
      "outputs": [
        {
          "output_type": "execute_result",
          "data": {
            "text/plain": [
              "8"
            ]
          },
          "metadata": {
            "tags": []
          },
          "execution_count": 122
        }
      ]
    },
    {
      "cell_type": "code",
      "metadata": {
        "id": "9vGVIkiWXG_m"
      },
      "source": [
        "# Create a random seed=42\r\n",
        "np.random.seed(42)   # if you want reproducible results set the random seed value."
      ],
      "execution_count": 21,
      "outputs": []
    },
    {
      "cell_type": "code",
      "metadata": {
        "id": "V6vSI4X_Xa1B"
      },
      "source": [
        "# Create shuffle indices of size 60000 (as we have 60000 images in the training dataset) and store it in a variable 'shuffle_index'\r\n",
        "shuffle_index = np.random.permutation(60000)"
      ],
      "execution_count": 22,
      "outputs": []
    },
    {
      "cell_type": "code",
      "metadata": {
        "id": "xTpi-UaOXxdt"
      },
      "source": [
        "# Shuffle the indices of X_train and y_train datasets by using 'shuffle_index' variable created above.\r\n",
        "X_train, y_train = X_train[shuffle_index], y_train[shuffle_index]"
      ],
      "execution_count": 23,
      "outputs": []
    },
    {
      "cell_type": "code",
      "metadata": {
        "id": "9jPFmV1jYF2m"
      },
      "source": [
        "#Import StandardScaler from SKLearn's preprocessing\r\n",
        "from sklearn.preprocessing import StandardScaler"
      ],
      "execution_count": 25,
      "outputs": []
    },
    {
      "cell_type": "code",
      "metadata": {
        "id": "GyDB01jhYRhY"
      },
      "source": [
        "# Create an instance of StandardScaler and store it in variable called 'scaler'\r\n",
        "scaler = StandardScaler()"
      ],
      "execution_count": 26,
      "outputs": []
    },
    {
      "cell_type": "code",
      "metadata": {
        "id": "QIFSSWuPYqt7"
      },
      "source": [
        "# Apply standardization on training dataset X_train using the above created StandardScaler instance scaler using fit_transform method and store the scaled training dataset in X_train_scaled variable.\r\n",
        "X_train_scaled = scaler.fit_transform(X_train.astype(np.float64))"
      ],
      "execution_count": 28,
      "outputs": []
    },
    {
      "cell_type": "code",
      "metadata": {
        "id": "RZTlRhseZEoe"
      },
      "source": [
        "# (1) Import accuracy_score from SKLearn\r\n",
        "from sklearn.metrics import accuracy_score"
      ],
      "execution_count": 30,
      "outputs": []
    },
    {
      "cell_type": "code",
      "metadata": {
        "id": "vez48j43ZdHP"
      },
      "source": [
        "# (2) Import precision_score and recall_score from SKLearn\r\n",
        "from sklearn.metrics import precision_score, recall_score"
      ],
      "execution_count": 31,
      "outputs": []
    },
    {
      "cell_type": "code",
      "metadata": {
        "id": "8zqbPTp7Zydb"
      },
      "source": [
        "# (3) Import f1_score from SKLearn\r\n",
        "from sklearn.metrics import f1_score"
      ],
      "execution_count": 32,
      "outputs": []
    },
    {
      "cell_type": "code",
      "metadata": {
        "id": "9Ount61GZ9LO"
      },
      "source": [
        "# Import LogisticRegression from SKLearn\r\n",
        "from sklearn.linear_model import  LogisticRegression"
      ],
      "execution_count": 33,
      "outputs": []
    },
    {
      "cell_type": "code",
      "metadata": {
        "id": "-1bloPANaSdQ"
      },
      "source": [
        "# Create an instance of LogisticRegression by passing parameters - multi_class=\"multinomial\", solver=\"lbfgs\", C=10 and random_state=42 to the constructor and store this created instance in a variable called 'log_clf'.\r\n",
        "# using Softmax Regression (multi-class classification problem)\r\n",
        "log_clf = LogisticRegression(multi_class='multinomial',solver='lbfgs',C=10, random_state=42)\r\n",
        "# 'C' is hyprparameter for regularizing L2\r\n",
        "# 'lbfgs' is Byoden-Fletcher-Goldfarb-Shanno(BFGS) algorithm"
      ],
      "execution_count": 34,
      "outputs": []
    },
    {
      "cell_type": "code",
      "metadata": {
        "colab": {
          "base_uri": "https://localhost:8080/"
        },
        "id": "_-tlDnbTbGtv",
        "outputId": "7a28d15f-9e8e-4d19-e51b-3c5077ad5b0e"
      },
      "source": [
        "# Now, train the model on 'scaled' training dataset\r\n",
        "log_clf.fit(X_train_scaled, y_train)"
      ],
      "execution_count": 35,
      "outputs": [
        {
          "output_type": "stream",
          "text": [
            "/usr/local/lib/python3.6/dist-packages/sklearn/linear_model/_logistic.py:940: ConvergenceWarning: lbfgs failed to converge (status=1):\n",
            "STOP: TOTAL NO. of ITERATIONS REACHED LIMIT.\n",
            "\n",
            "Increase the number of iterations (max_iter) or scale the data as shown in:\n",
            "    https://scikit-learn.org/stable/modules/preprocessing.html\n",
            "Please also refer to the documentation for alternative solver options:\n",
            "    https://scikit-learn.org/stable/modules/linear_model.html#logistic-regression\n",
            "  extra_warning_msg=_LOGISTIC_SOLVER_CONVERGENCE_MSG)\n"
          ],
          "name": "stderr"
        },
        {
          "output_type": "execute_result",
          "data": {
            "text/plain": [
              "LogisticRegression(C=10, class_weight=None, dual=False, fit_intercept=True,\n",
              "                   intercept_scaling=1, l1_ratio=None, max_iter=100,\n",
              "                   multi_class='multinomial', n_jobs=None, penalty='l2',\n",
              "                   random_state=42, solver='lbfgs', tol=0.0001, verbose=0,\n",
              "                   warm_start=False)"
            ]
          },
          "metadata": {
            "tags": []
          },
          "execution_count": 35
        }
      ]
    },
    {
      "cell_type": "code",
      "metadata": {
        "id": "UIeYAQIZbV-X"
      },
      "source": [
        "# Make prediction on an instance from the training dataset (say instance at index '0' i.e. X_train[0]) using the above trained model 'log_clf', and store the predicted value in a variable called y_train_predict\r\n",
        "y_train_predict = log_clf.predict(X_train[0].reshape(1, -1))"
      ],
      "execution_count": 37,
      "outputs": []
    },
    {
      "cell_type": "code",
      "metadata": {
        "colab": {
          "base_uri": "https://localhost:8080/",
          "height": 248
        },
        "id": "zUwAGqV_bqZR",
        "outputId": "f4c28401-c454-45ad-986f-1e5f163d5fdb"
      },
      "source": [
        "# Let us compare the actual value to the predicted value of the label. You can use showImage() function to see the image.\r\n",
        "y_train[0] \r\n",
        "y_train_predict[0]\r\n",
        "showImage(X_train[0])"
      ],
      "execution_count": 38,
      "outputs": [
        {
          "output_type": "display_data",
          "data": {
            "image/png": "[encoded data removed]",
            "text/plain": [
              "<Figure size 432x288 with 1 Axes>"
            ]
          },
          "metadata": {
            "tags": [],
            "needs_background": "light"
          }
        }
      ]
    },
    {
      "cell_type": "code",
      "metadata": {
        "id": "rTMMtXhQb4wp"
      },
      "source": [
        "#Make the predictions on the complete training dataset X_train_scaled using the above trained model 'log_clf' and save the result in variable 'y_train_predict'\r\n",
        "y_train_predict = log_clf.predict(X_train_scaled)"
      ],
      "execution_count": 39,
      "outputs": []
    },
    {
      "cell_type": "markdown",
      "metadata": {
        "id": "os6oOkQUcFhu"
      },
      "source": [
        "- Calculate the various metrics scores like - accuracy, precision, recall, F1 score - using the actual and the predicted values and relevant functions, - and store them in respective variables - log_accuracy, log_precision, log_recall and log_f1_score."
      ]
    },
    {
      "cell_type": "code",
      "metadata": {
        "id": "XP4hNNP6b92M"
      },
      "source": [
        "log_accuracy = accuracy_score(y_train, y_train_predict)\r\n",
        "log_precision = precision_score(y_train, y_train_predict, average='weighted')\r\n",
        "log_recall = recall_score(y_train, y_train_predict, average='weighted')\r\n",
        "log_f1_score = f1_score(y_train, y_train_predict, average='weighted')"
      ],
      "execution_count": 40,
      "outputs": []
    },
    {
      "cell_type": "code",
      "metadata": {
        "colab": {
          "base_uri": "https://localhost:8080/"
        },
        "id": "0d6UCUVmcMM2",
        "outputId": "218b6c6a-4b61-4007-8042-d662803ace74"
      },
      "source": [
        "# print the above metrics values (accuracy, etc.) using the print() function\r\n",
        "print(\"Logistic Accuracy: \", log_accuracy)\r\n",
        "print(\"Logistic Precision: \", log_precision)\r\n",
        "print(\"Logistic Recall: \", log_recall)\r\n",
        "print(\"Logistic F1 Score: \", log_f1_score)"
      ],
      "execution_count": 41,
      "outputs": [
        {
          "output_type": "stream",
          "text": [
            "Logistic Accuracy:  0.9435333333333333\n",
            "Logistic Precision:  0.9434388220018844\n",
            "Logistic Recall:  0.9435333333333333\n",
            "Logistic F1 Score:  0.9434703392789886\n"
          ],
          "name": "stdout"
        }
      ]
    },
    {
      "cell_type": "markdown",
      "metadata": {
        "id": "f0JrkSIWc-d6"
      },
      "source": [
        "## Training the Model - RandomForestClassifier\r\n",
        "Let us now train the RandomForestClassifier. We will be doing the following as part of this exercise:\r\n",
        "\r\n",
        "- 1.We will be first training the RandomForestClassifier on the training dataset\r\n",
        "- 2.Using the trained model, make the prediction on a sample instance and compare the prediction with the actual value.\r\n",
        "- 3.Using the trained model, make the prediction on the whole training dataset\r\n",
        "- 4.Calculate - accuracy, precision, recall and F1 Score for RandomForestClassifier."
      ]
    },
    {
      "cell_type": "code",
      "metadata": {
        "id": "F6FbunrYdNEU"
      },
      "source": [
        "# Import RandomForestClassifier from SKLearn\r\n",
        "from sklearn.ensemble import RandomForestClassifier"
      ],
      "execution_count": 42,
      "outputs": []
    },
    {
      "cell_type": "code",
      "metadata": {
        "id": "qC5eUBRUdkgx"
      },
      "source": [
        "# Create an instance of RandomForestClassifier by passing parameters - n_estimators=20, max_depth=10, random_state=42, and store this created instance in a variable called 'rnd_clf'.\r\n",
        "rnd_clf = RandomForestClassifier(n_estimators=20, max_depth=10, random_state=42)\r\n",
        "# Scaling is not needed for Decision Tree based algorithms like Random Forest and XGBoost"
      ],
      "execution_count": 43,
      "outputs": []
    },
    {
      "cell_type": "code",
      "metadata": {
        "colab": {
          "base_uri": "https://localhost:8080/"
        },
        "id": "ZEvYSh_SeJ_L",
        "outputId": "ae9c3f05-e4c0-4644-b927-80ab6f8b5bd2"
      },
      "source": [
        "# Now, train the model on training dataset\r\n",
        "rnd_clf.fit(X_train, y_train)"
      ],
      "execution_count": 45,
      "outputs": [
        {
          "output_type": "execute_result",
          "data": {
            "text/plain": [
              "RandomForestClassifier(bootstrap=True, ccp_alpha=0.0, class_weight=None,\n",
              "                       criterion='gini', max_depth=10, max_features='auto',\n",
              "                       max_leaf_nodes=None, max_samples=None,\n",
              "                       min_impurity_decrease=0.0, min_impurity_split=None,\n",
              "                       min_samples_leaf=1, min_samples_split=2,\n",
              "                       min_weight_fraction_leaf=0.0, n_estimators=20,\n",
              "                       n_jobs=None, oob_score=False, random_state=42, verbose=0,\n",
              "                       warm_start=False)"
            ]
          },
          "metadata": {
            "tags": []
          },
          "execution_count": 45
        }
      ]
    },
    {
      "cell_type": "code",
      "metadata": {
        "id": "R-dFVWMoelrO"
      },
      "source": [
        "# Make prediction on an instance from the training dataset (say instance at index '0' i.e. X_train[0]) using the above trained model 'rnd_clf', and store the predicted value in a variable called y_train_predict\r\n",
        "y_train_predict = rnd_clf.predict(X_train[0].reshape(1, -1))"
      ],
      "execution_count": 46,
      "outputs": []
    },
    {
      "cell_type": "code",
      "metadata": {
        "colab": {
          "base_uri": "https://localhost:8080/",
          "height": 248
        },
        "id": "9EZEjqxFfCjT",
        "outputId": "857db26e-f17e-4d7c-cd7e-16ae1dc79bcc"
      },
      "source": [
        "# Let us compare the actual value (digit) to the predicted value (digit). You can use showImage() function to see the image.\r\n",
        "y_train[0] \r\n",
        "y_train_predict[0]\r\n",
        "showImage(X_train[0])"
      ],
      "execution_count": 47,
      "outputs": [
        {
          "output_type": "display_data",
          "data": {
            "image/png": "[encoded data removed]",
            "text/plain": [
              "<Figure size 432x288 with 1 Axes>"
            ]
          },
          "metadata": {
            "tags": [],
            "needs_background": "light"
          }
        }
      ]
    },
    {
      "cell_type": "code",
      "metadata": {
        "id": "hVaGyisFfMAw"
      },
      "source": [
        "# Make the predictions on the complete training dataset X_train using the above trained model 'rnd_clf' and save the result in variable 'y_train_predict'\r\n",
        "y_train_predict = rnd_clf.predict(X_train)"
      ],
      "execution_count": 48,
      "outputs": []
    },
    {
      "cell_type": "markdown",
      "metadata": {
        "id": "VhF1_5a8fcXf"
      },
      "source": [
        "- Calculate the various metrics scores like - accuracy, precision, recall, F1 score - using the actual and the predicted values and relevant functions, - and store them in respective variables - rnd_accuracy, rnd_precision, rnd_recall and rnd_f1_score."
      ]
    },
    {
      "cell_type": "code",
      "metadata": {
        "id": "Y-lvdS05fZPx"
      },
      "source": [
        "rnd_accuracy = accuracy_score(y_train, y_train)\r\n",
        "rnd_precision = precision_score(y_train, y_train_predict, average='weighted')\r\n",
        "rnd_recall = recall_score(y_train, y_train_predict, average='weighted')\r\n",
        "rnd_f1_score = f1_score(y_train, y_train_predict, average='weighted')"
      ],
      "execution_count": 49,
      "outputs": []
    },
    {
      "cell_type": "code",
      "metadata": {
        "colab": {
          "base_uri": "https://localhost:8080/"
        },
        "id": "oOrMEA_NgDTb",
        "outputId": "86141b86-06ad-44f7-a883-17d10b0aaeac"
      },
      "source": [
        "# print the above metrics values (accuracy, etc.) using the print() function\r\n",
        "print(\"Random Forest Accuracy: \", rnd_accuracy)\r\n",
        "print(\"Random Forest Precision: \", rnd_precision)\r\n",
        "print(\"Random Forest Recall: \", rnd_recall)\r\n",
        "print(\"Random Forest F1 Score: \", rnd_f1_score)"
      ],
      "execution_count": 50,
      "outputs": [
        {
          "output_type": "stream",
          "text": [
            "Random Forest Accuracy:  1.0\n",
            "Random Forest Precision:  0.956929781436425\n",
            "Random Forest Recall:  0.9567666666666667\n",
            "Random Forest F1 Score:  0.9567871235792454\n"
          ],
          "name": "stdout"
        }
      ]
    },
    {
      "cell_type": "markdown",
      "metadata": {
        "id": "wppO5hoQgYHR"
      },
      "source": [
        "## Selecting the Model - Cross-Validation"
      ]
    },
    {
      "cell_type": "code",
      "metadata": {
        "id": "p20Hvmv6gKOC"
      },
      "source": [
        "# Import the module cross_val_score and cross_val_predict from sklearn.model_selection\r\n",
        "from sklearn.model_selection import cross_val_score, cross_val_predict"
      ],
      "execution_count": 67,
      "outputs": []
    },
    {
      "cell_type": "code",
      "metadata": {
        "id": "kVQNtwpRgm8O"
      },
      "source": [
        "# Import the module confusion_matrix from sklearn.metrics.\r\n",
        "from sklearn.metrics import confusion_matrix"
      ],
      "execution_count": 63,
      "outputs": []
    },
    {
      "cell_type": "markdown",
      "metadata": {
        "id": "HYDRCUfThIx2"
      },
      "source": [
        "- Define a function called display_scores() which should print the score value which is passed to it as argument, and also calculate and print the 'mean' and 'standard deviation' of this score."
      ]
    },
    {
      "cell_type": "code",
      "metadata": {
        "id": "azW7mRBKgxX3"
      },
      "source": [
        "def display_scores(scores):\r\n",
        "  print(\"Scores:\", scores)\r\n",
        "  print(\"Mean:\", scores.mean())\r\n",
        "  print(\"Standard deviation:\", scores.std())"
      ],
      "execution_count": 64,
      "outputs": []
    },
    {
      "cell_type": "markdown",
      "metadata": {
        "id": "5oZVA-pNhmQG"
      },
      "source": [
        "- create an instance of LogisticRegression called log_clf by passing to it the parameters - multi_class=\"multinomial\", solver=\"lbfgs\", C=10 and random_state=42"
      ]
    },
    {
      "cell_type": "code",
      "metadata": {
        "id": "_Py5Bfaihe7x"
      },
      "source": [
        "log_clf = LogisticRegression(multi_class=\"multinomial\", solver=\"lbfgs\", C=10, random_state=42) "
      ],
      "execution_count": 65,
      "outputs": []
    },
    {
      "cell_type": "markdown",
      "metadata": {
        "id": "i5qwoKJQh_OU"
      },
      "source": [
        "Please call cross_val_score() function by passing following parameters to it - the model (log_clf), the scaled training dataset (X_train_scaled), y_train, cv=3 and scoring=\"accuracy\" - and save the returned value in a variable called log_cv_scores.\r\n",
        "\r\n",
        "Call display_scores() function, by passing to it the log_cv_scores variable, to calculate and display(print) the 'accuracy' score, the mean of the 'accuracy' score and the 'standard deviation' of the 'accuracy' score."
      ]
    },
    {
      "cell_type": "code",
      "metadata": {
        "colab": {
          "base_uri": "https://localhost:8080/"
        },
        "id": "bVBR06y6h1ut",
        "outputId": "0fa5c8ce-a208-4be3-92f3-612ca38da40c"
      },
      "source": [
        "log_cv_scores = cross_val_score(log_clf, X_train_scaled, y_train, cv=3, scoring=\"accuracy\") \r\n",
        "display_scores(log_cv_scores)  "
      ],
      "execution_count": 68,
      "outputs": [
        {
          "output_type": "stream",
          "text": [
            "/usr/local/lib/python3.6/dist-packages/sklearn/linear_model/_logistic.py:940: ConvergenceWarning: lbfgs failed to converge (status=1):\n",
            "STOP: TOTAL NO. of ITERATIONS REACHED LIMIT.\n",
            "\n",
            "Increase the number of iterations (max_iter) or scale the data as shown in:\n",
            "    https://scikit-learn.org/stable/modules/preprocessing.html\n",
            "Please also refer to the documentation for alternative solver options:\n",
            "    https://scikit-learn.org/stable/modules/linear_model.html#logistic-regression\n",
            "  extra_warning_msg=_LOGISTIC_SOLVER_CONVERGENCE_MSG)\n",
            "/usr/local/lib/python3.6/dist-packages/sklearn/linear_model/_logistic.py:940: ConvergenceWarning: lbfgs failed to converge (status=1):\n",
            "STOP: TOTAL NO. of ITERATIONS REACHED LIMIT.\n",
            "\n",
            "Increase the number of iterations (max_iter) or scale the data as shown in:\n",
            "    https://scikit-learn.org/stable/modules/preprocessing.html\n",
            "Please also refer to the documentation for alternative solver options:\n",
            "    https://scikit-learn.org/stable/modules/linear_model.html#logistic-regression\n",
            "  extra_warning_msg=_LOGISTIC_SOLVER_CONVERGENCE_MSG)\n"
          ],
          "name": "stderr"
        },
        {
          "output_type": "stream",
          "text": [
            "Scores: [0.909   0.90845 0.9058 ]\n",
            "Mean: 0.9077500000000001\n",
            "Standard deviation: 0.001397020639313041\n"
          ],
          "name": "stdout"
        },
        {
          "output_type": "stream",
          "text": [
            "/usr/local/lib/python3.6/dist-packages/sklearn/linear_model/_logistic.py:940: ConvergenceWarning: lbfgs failed to converge (status=1):\n",
            "STOP: TOTAL NO. of ITERATIONS REACHED LIMIT.\n",
            "\n",
            "Increase the number of iterations (max_iter) or scale the data as shown in:\n",
            "    https://scikit-learn.org/stable/modules/preprocessing.html\n",
            "Please also refer to the documentation for alternative solver options:\n",
            "    https://scikit-learn.org/stable/modules/linear_model.html#logistic-regression\n",
            "  extra_warning_msg=_LOGISTIC_SOLVER_CONVERGENCE_MSG)\n"
          ],
          "name": "stderr"
        }
      ]
    },
    {
      "cell_type": "code",
      "metadata": {
        "id": "JmSJL61ojsIz"
      },
      "source": [
        "# Call mean() method on log_cv_scores object to get the mean accuracy score and store this mean accuracy score in a variable log_cv_accuracy.\r\n",
        "log_cv_accuracy = log_cv_scores.mean()"
      ],
      "execution_count": 70,
      "outputs": []
    },
    {
      "cell_type": "markdown",
      "metadata": {
        "id": "DQuPbwBMkqdU"
      },
      "source": [
        "- Now call cross_val_predict() function by passing following parameters to it - the model (log_clf), the scaled training dataset (X_train_scaled), y_train, cv=3 - and save the returned value in a variable called y_train_pred."
      ]
    },
    {
      "cell_type": "code",
      "metadata": {
        "colab": {
          "base_uri": "https://localhost:8080/"
        },
        "id": "TjLXMvGhj4KL",
        "outputId": "24771464-3212-4483-c9ff-964942a875e9"
      },
      "source": [
        "y_train_pred = cross_val_predict(log_clf, X_train_scaled, y_train, cv=3)\r\n",
        "# Compute the confusion matrix by using confusion_matrix() function\r\n",
        "confusion_matrix(y_train, y_train_predict)\r\n",
        "# Calculate the precision score by the using the precision_score() function\r\n",
        "log_cv_precision = precision_score(y_train, y_train_pred, average='weighted')\r\n",
        "# Calculate the recall score by the using the recall_score() function\r\n",
        "log_cv_recall = recall_score(y_train, y_train_pred, average='weighted')\r\n",
        "# Calculate the F1 score by the using the f1_score() function\r\n",
        "log_cv_f1_score = f1_score(y_train, y_train_pred, average='weighted')"
      ],
      "execution_count": 72,
      "outputs": [
        {
          "output_type": "stream",
          "text": [
            "/usr/local/lib/python3.6/dist-packages/sklearn/linear_model/_logistic.py:940: ConvergenceWarning: lbfgs failed to converge (status=1):\n",
            "STOP: TOTAL NO. of ITERATIONS REACHED LIMIT.\n",
            "\n",
            "Increase the number of iterations (max_iter) or scale the data as shown in:\n",
            "    https://scikit-learn.org/stable/modules/preprocessing.html\n",
            "Please also refer to the documentation for alternative solver options:\n",
            "    https://scikit-learn.org/stable/modules/linear_model.html#logistic-regression\n",
            "  extra_warning_msg=_LOGISTIC_SOLVER_CONVERGENCE_MSG)\n",
            "/usr/local/lib/python3.6/dist-packages/sklearn/linear_model/_logistic.py:940: ConvergenceWarning: lbfgs failed to converge (status=1):\n",
            "STOP: TOTAL NO. of ITERATIONS REACHED LIMIT.\n",
            "\n",
            "Increase the number of iterations (max_iter) or scale the data as shown in:\n",
            "    https://scikit-learn.org/stable/modules/preprocessing.html\n",
            "Please also refer to the documentation for alternative solver options:\n",
            "    https://scikit-learn.org/stable/modules/linear_model.html#logistic-regression\n",
            "  extra_warning_msg=_LOGISTIC_SOLVER_CONVERGENCE_MSG)\n",
            "/usr/local/lib/python3.6/dist-packages/sklearn/linear_model/_logistic.py:940: ConvergenceWarning: lbfgs failed to converge (status=1):\n",
            "STOP: TOTAL NO. of ITERATIONS REACHED LIMIT.\n",
            "\n",
            "Increase the number of iterations (max_iter) or scale the data as shown in:\n",
            "    https://scikit-learn.org/stable/modules/preprocessing.html\n",
            "Please also refer to the documentation for alternative solver options:\n",
            "    https://scikit-learn.org/stable/modules/linear_model.html#logistic-regression\n",
            "  extra_warning_msg=_LOGISTIC_SOLVER_CONVERGENCE_MSG)\n"
          ],
          "name": "stderr"
        }
      ]
    },
    {
      "cell_type": "code",
      "metadata": {
        "colab": {
          "base_uri": "https://localhost:8080/"
        },
        "id": "hWdR-kxLlBsx",
        "outputId": "504fad8c-40a6-4c61-c598-a6297c33034f"
      },
      "source": [
        "# Print the above calculated values of log_cv_accuracy, log_cv_precision, log_cv_recall , log_cv_f1_score\r\n",
        "print(\"Logistic CV Accuracy: \", log_cv_accuracy)\r\n",
        "print(\"Logistic CV Precision: \", log_cv_precision)\r\n",
        "print(\"Logistic CV Recall: \", log_cv_recall)\r\n",
        "print(\"Logistic CV F1 Score: \", log_cv_f1_score)"
      ],
      "execution_count": 73,
      "outputs": [
        {
          "output_type": "stream",
          "text": [
            "Logistic CV Accuracy:  0.9077500000000001\n",
            "Logistic CV Precision:  0.9074892331190823\n",
            "Logistic CV Recall:  0.90775\n",
            "Logistic CV F1 Score:  0.9075791048549036\n"
          ],
          "name": "stdout"
        }
      ]
    },
    {
      "cell_type": "markdown",
      "metadata": {
        "id": "81YFhTvXmwx0"
      },
      "source": [
        "## Selecting the Model - Cross-Validation - RandomForestClassifier"
      ]
    },
    {
      "cell_type": "markdown",
      "metadata": {
        "id": "zDZSMY6Im21D"
      },
      "source": [
        "- create an instance of RandomForestClassifier called rnd_clf by passing to it the parameters - n_estimators=20, max_depth=10 and random_state=42"
      ]
    },
    {
      "cell_type": "code",
      "metadata": {
        "id": "bTTGolh7my_x"
      },
      "source": [
        "rnd_clf = RandomForestClassifier(n_estimators=20, max_depth=10, random_state=42)"
      ],
      "execution_count": 74,
      "outputs": []
    },
    {
      "cell_type": "markdown",
      "metadata": {
        "id": "ddQz6th-nNYD"
      },
      "source": [
        "we are call cross_val_score() function by passing following parameters to it - the model (rnd_clf), the training dataset (X_train), y_train, cv=3 and scoring=\"accuracy\" - and save the returned value in a variable called rnd_cv_scores.\r\n",
        "\r\n",
        "Call display_scores() function, by passing to it the rnd_cv_scores variable, to calculate and display(print) the 'accuracy' score, the mean of the 'accuracy' score and the 'standard deviation' of the 'accuracy' score."
      ]
    },
    {
      "cell_type": "code",
      "metadata": {
        "colab": {
          "base_uri": "https://localhost:8080/"
        },
        "id": "tFFcxZv0nPwb",
        "outputId": "70a76b75-d7d4-4327-efa2-8c66c07e94b6"
      },
      "source": [
        "rnd_cv_scores = cross_val_score(rnd_clf, X_train, y_train, cv=3, scoring=\"accuracy\") \r\n",
        "display_scores(rnd_cv_scores)"
      ],
      "execution_count": 76,
      "outputs": [
        {
          "output_type": "stream",
          "text": [
            "Scores: [0.939   0.9343  0.93265]\n",
            "Mean: 0.9353166666666667\n",
            "Standard deviation: 0.002690208583404289\n"
          ],
          "name": "stdout"
        }
      ]
    },
    {
      "cell_type": "code",
      "metadata": {
        "id": "aQdW8KKwnsyu"
      },
      "source": [
        "# Call mean() method on rnd_cv_scores object to get the mean accuracy score and store this mean accuracy score in a variable rnd_cv_accuracy.\r\n",
        "rnd_cv_accuracy = rnd_cv_scores.mean()"
      ],
      "execution_count": 77,
      "outputs": []
    },
    {
      "cell_type": "markdown",
      "metadata": {
        "id": "F6aPKh2aoaZh"
      },
      "source": [
        "- call cross_val_predict() function by passing following parameters to it - the model (rnd_clf), the training dataset (X_train), y_train, cv=3 - and save the returned value in a variable called y_train_pred."
      ]
    },
    {
      "cell_type": "code",
      "metadata": {
        "id": "oEtKgelioQ_U"
      },
      "source": [
        "y_train_pred = cross_val_predict(rnd_clf, X_train, y_train, cv=3)"
      ],
      "execution_count": 79,
      "outputs": []
    },
    {
      "cell_type": "code",
      "metadata": {
        "id": "nj1XcuMvopxK"
      },
      "source": [
        "# Compute the confusion matrix by using confusion_matrix() function\r\n",
        "confusion_matrix(y_train, y_train_pred)\r\n",
        "# Calculate the precision score by the using the precision_score() function\r\n",
        "rnd_cv_precision = precision_score(y_train, y_train_pred, average='weighted')\r\n",
        "# Calculate the recall score by the using the recall_score() function\r\n",
        "rnd_cv_recall = recall_score(y_train, y_train_pred, average='weighted')\r\n",
        "# Calculate the F1 score by the using the f1_score() function\r\n",
        "rnd_cv_f1_score = f1_score(y_train, y_train_pred, average='weighted')"
      ],
      "execution_count": 80,
      "outputs": []
    },
    {
      "cell_type": "code",
      "metadata": {
        "colab": {
          "base_uri": "https://localhost:8080/"
        },
        "id": "D1FOL0q0pWkf",
        "outputId": "29985bcb-6993-4648-b3f0-e195f03f6a3e"
      },
      "source": [
        "# Print the above calculated values of rnd_cv_accuracy, rnd_cv_precision, rnd_cv_recall , rnd_cv_f1_score\r\n",
        "print(\"Random Forest CV Accuracy: \", rnd_cv_accuracy)\r\n",
        "print(\"Random Forest CV Precision: \", rnd_cv_precision)\r\n",
        "print(\"Random Forest CV Recall: \", rnd_cv_recall)\r\n",
        "print(\"Random Forest CV F1 Score: \", rnd_cv_f1_score)"
      ],
      "execution_count": 81,
      "outputs": [
        {
          "output_type": "stream",
          "text": [
            "Random Forest CV Accuracy:  0.9353166666666667\n",
            "Random Forest CV Precision:  0.9354923475845908\n",
            "Random Forest CV Recall:  0.9353166666666667\n",
            "Random Forest CV F1 Score:  0.9353016646546045\n"
          ],
          "name": "stdout"
        }
      ]
    },
    {
      "cell_type": "markdown",
      "metadata": {
        "id": "b-hI84nppmZx"
      },
      "source": [
        "## Selecting the Model - Cross-Validation - The Conclusion"
      ]
    },
    {
      "cell_type": "code",
      "metadata": {
        "colab": {
          "base_uri": "https://localhost:8080/"
        },
        "id": "eCoxDRCBpnp7",
        "outputId": "5dffdb7e-e16d-4144-b208-14739ffe0971"
      },
      "source": [
        "print(\"=== Softmax === \")\r\n",
        "display_scores(log_cv_scores)\r\n",
        "print(\"log_cv_accuracy:\", log_cv_accuracy)\r\n",
        "print(\"log_cv_precision:\", log_cv_precision)\r\n",
        "print(\"log_cv_recall:\", log_cv_recall)\r\n",
        "print(\"log_cv_f1_score:\", log_cv_f1_score)\r\n",
        "\r\n",
        "print(\"=== Random Forest === \")\r\n",
        "display_scores(rnd_cv_scores)\r\n",
        "print(\"rnd_cv_accuracy:\", rnd_cv_accuracy)\r\n",
        "print(\"rnd_cv_precision:\", rnd_cv_precision)\r\n",
        "print(\"rnd_cv_recall :\", rnd_cv_recall )\r\n",
        "print(\"rnd_cv_f1_score:\", rnd_cv_f1_score)"
      ],
      "execution_count": 82,
      "outputs": [
        {
          "output_type": "stream",
          "text": [
            "=== Softmax === \n",
            "Scores: [0.909   0.90845 0.9058 ]\n",
            "Mean: 0.9077500000000001\n",
            "Standard deviation: 0.001397020639313041\n",
            "log_cv_accuracy: 0.9077500000000001\n",
            "log_cv_precision: 0.9074892331190823\n",
            "log_cv_recall: 0.90775\n",
            "log_cv_f1_score: 0.9075791048549036\n",
            "=== Random Forest === \n",
            "Scores: [0.939   0.9343  0.93265]\n",
            "Mean: 0.9353166666666667\n",
            "Standard deviation: 0.002690208583404289\n",
            "rnd_cv_accuracy: 0.9353166666666667\n",
            "rnd_cv_precision: 0.9354923475845908\n",
            "rnd_cv_recall : 0.9353166666666667\n",
            "rnd_cv_f1_score: 0.9353016646546045\n"
          ],
          "name": "stdout"
        }
      ]
    },
    {
      "cell_type": "markdown",
      "metadata": {
        "id": "9EXhosELpw-7"
      },
      "source": [
        "From the results of the cross-validation process, we see that both the logistic regression and random forest have given the best results (nearly accuracy - 85%, standard deviation for accuracy - 0.002, Precision, Recall, F1 score nearly 0.85).\r\n",
        "\r\n",
        "Let us use Voting Classifier and proceed with the fine-tuning of the model (hyperparameters tuning)."
      ]
    },
    {
      "cell_type": "markdown",
      "metadata": {
        "id": "mUy5SG2pp5xI"
      },
      "source": [
        "## Fine-Tuning the Model - Grid Search - Dimensionality Reduction"
      ]
    },
    {
      "cell_type": "code",
      "metadata": {
        "id": "UxSZ66sNpxol"
      },
      "source": [
        "# Import PCA from SKLearn \r\n",
        "from sklearn.decomposition import PCA"
      ],
      "execution_count": 83,
      "outputs": []
    },
    {
      "cell_type": "code",
      "metadata": {
        "id": "WlCV_gtmqSqi"
      },
      "source": [
        "# Create an instance of PCA called 'pca', by passing to it the parameter n_components=0.99 (i.e. variance ratio of 0.99)\r\n",
        "pca = PCA(n_components=0.99)"
      ],
      "execution_count": 84,
      "outputs": []
    },
    {
      "cell_type": "code",
      "metadata": {
        "id": "0SwLzO-GqaxO"
      },
      "source": [
        "# Apply PCA on the training dataset X_train dataset and save the result in a variable called X_train_reduced\r\n",
        "X_train_reduced = pca.fit_transform(X_train)"
      ],
      "execution_count": 85,
      "outputs": []
    },
    {
      "cell_type": "code",
      "metadata": {
        "colab": {
          "base_uri": "https://localhost:8080/"
        },
        "id": "YExCDBakqoYf",
        "outputId": "ba3b54dd-8c18-483d-a2a4-6c73d6d33d25"
      },
      "source": [
        "# Please check the number of components (features) present in the X_train_reduced dataset\r\n",
        "pca.n_components_"
      ],
      "execution_count": 86,
      "outputs": [
        {
          "output_type": "execute_result",
          "data": {
            "text/plain": [
              "331"
            ]
          },
          "metadata": {
            "tags": []
          },
          "execution_count": 86
        }
      ]
    },
    {
      "cell_type": "code",
      "metadata": {
        "colab": {
          "base_uri": "https://localhost:8080/"
        },
        "id": "rynwiJo_q2bG",
        "outputId": "c0a1ea07-e781-41d4-efdb-33bc51c7c2e7"
      },
      "source": [
        "# Please check if you have hit a total of 99% explained variance ratio with the select number of components:\r\n",
        "np.sum(pca.explained_variance_ratio_)"
      ],
      "execution_count": 87,
      "outputs": [
        {
          "output_type": "execute_result",
          "data": {
            "text/plain": [
              "0.9900129426354097"
            ]
          },
          "metadata": {
            "tags": []
          },
          "execution_count": 87
        }
      ]
    },
    {
      "cell_type": "markdown",
      "metadata": {
        "id": "dU3DFlzRrHa4"
      },
      "source": [
        "- Check if there is any loss of information due to dimensionality reduction. You can do this by recovering (decompressing) some of the images (instances) of X_train_reduced dataset.\r\n",
        "\r\n",
        "Let us recover (decompress) some of the images (instances) of X_train_reduced dataset and check.\r\n",
        "\r\n",
        "Please use inverse_transform function to decompress the compressed dataset (X_train_reduced) back to 784 dimensions , and save the resulting dataset in X_train_recovered variable."
      ]
    },
    {
      "cell_type": "code",
      "metadata": {
        "id": "r5rqZN1trCBg"
      },
      "source": [
        "X_train_recovered = pca.inverse_transform(X_train_reduced)"
      ],
      "execution_count": 89,
      "outputs": []
    },
    {
      "cell_type": "markdown",
      "metadata": {
        "id": "___Q8HAKrorh"
      },
      "source": [
        "Use the below code and function as it is. It will display the original image and the compressed image (that was recovered after decompression)."
      ]
    },
    {
      "cell_type": "code",
      "metadata": {
        "colab": {
          "base_uri": "https://localhost:8080/",
          "height": 262
        },
        "id": "p7ku-CUpraXS",
        "outputId": "b9d2d1fa-b246-4547-8c7b-435429afb0c0"
      },
      "source": [
        "import matplotlib\r\n",
        "import matplotlib.pyplot as plt\r\n",
        "\r\n",
        "def plot_digits(instances, images_per_row=5, **options):\r\n",
        "    size = 28\r\n",
        "    images_per_row = min(len(instances), images_per_row)\r\n",
        "    images = [instance.reshape(size,size) for instance in instances]\r\n",
        "    n_rows = (len(instances) - 1) // images_per_row + 1\r\n",
        "    row_images = []\r\n",
        "    n_empty = n_rows * images_per_row - len(instances)\r\n",
        "    images.append(np.zeros((size, size * n_empty)))\r\n",
        "    for row in range(n_rows):\r\n",
        "        rimages = images[row * images_per_row : (row + 1) * images_per_row]\r\n",
        "        row_images.append(np.concatenate(rimages, axis=1))\r\n",
        "    image = np.concatenate(row_images, axis=0)\r\n",
        "    plt.imshow(image, cmap = matplotlib.cm.binary, **options)\r\n",
        "    plt.axis(\"off\")\r\n",
        "\r\n",
        "plt.figure(figsize=(7, 4))\r\n",
        "plt.subplot(121)\r\n",
        "# Plotting 'original' image\r\n",
        "plot_digits(X_train[::2100])\r\n",
        "plt.title(\"Original\", fontsize=16)\r\n",
        "plt.subplot(122)\r\n",
        "# Plotting the corresponding 'recovered' image\r\n",
        "plot_digits(X_train_recovered[::2100])\r\n",
        "plt.title(\"Compressed\", fontsize=16)\r\n",
        "plt.show()"
      ],
      "execution_count": 91,
      "outputs": [
        {
          "output_type": "display_data",
          "data": {
            "image/png": "[encoded data removed]",
            "text/plain": [
              "<Figure size 504x288 with 2 Axes>"
            ]
          },
          "metadata": {
            "tags": [],
            "needs_background": "light"
          }
        }
      ]
    },
    {
      "cell_type": "markdown",
      "metadata": {
        "id": "PDSRgMyZr8LY"
      },
      "source": [
        "The comparison of the 'original' dataset images and the 'compressed' dataset images (got after decompression) shows that there is not much information loss due to dimensionality reduction by using 0.99 variance ratio."
      ]
    },
    {
      "cell_type": "markdown",
      "metadata": {
        "id": "mON7ZHdLsENR"
      },
      "source": [
        "## Fine-Tuning the Model - Grid Search - Tuning Hyperparameters"
      ]
    },
    {
      "cell_type": "code",
      "metadata": {
        "colab": {
          "base_uri": "https://localhost:8080/"
        },
        "id": "lG8Lpo59wloS",
        "outputId": "c8d46f38-264c-45d9-801f-f74b88c54083"
      },
      "source": [
        "from sklearn.ensemble import VotingClassifier\r\n",
        "from sklearn.ensemble import RandomForestClassifier\r\n",
        "from sklearn.linear_model import  LogisticRegression\r\n",
        "from sklearn.model_selection import GridSearchCV\r\n",
        "\r\n",
        "\r\n",
        "log_clf_ens = LogisticRegression(multi_class=\"multinomial\", solver=\"lbfgs\", C=10 , random_state=42)\r\n",
        "rnd_clf_ens = RandomForestClassifier(n_estimators=20, max_depth=10 , random_state=42)\r\n",
        "\r\n",
        "\r\n",
        "voting_clf_grid_search = VotingClassifier(\r\n",
        "    estimators=[('lr', log_clf_ens), ('rf', rnd_clf_ens)],\r\n",
        "    voting='soft')\r\n",
        "\r\n",
        "param_grid = [\r\n",
        "    {\r\n",
        "        \"lr__multi_class\":[\"multinomial\"],\r\n",
        "        \"lr__solver\":[\"lbfgs\"],\r\n",
        "        \"lr__C\":[5],\r\n",
        "        \"rf__n_estimators\":[20],\r\n",
        "        \"rf__max_depth\":[10, 15],\r\n",
        "    }]\r\n",
        "\r\n",
        "grid_search = GridSearchCV(voting_clf_grid_search, param_grid, cv=3, scoring=\"neg_mean_squared_error\")\r\n",
        "\r\n",
        "\r\n",
        "grid_search.fit(X_train_reduced, y_train)\r\n",
        "grid_search.best_params_\r\n",
        "grid_search.best_estimator_\r\n",
        "\r\n",
        "cvres = grid_search.cv_results_\r\n",
        "for mean_score, params in zip(cvres[\"mean_test_score\"], cvres[\"params\"]):\r\n",
        "    print(np.sqrt(-mean_score), params)\r\n"
      ],
      "execution_count": 115,
      "outputs": [
        {
          "output_type": "stream",
          "text": [
            "/usr/local/lib/python3.6/dist-packages/sklearn/linear_model/_logistic.py:940: ConvergenceWarning: lbfgs failed to converge (status=1):\n",
            "STOP: TOTAL NO. of ITERATIONS REACHED LIMIT.\n",
            "\n",
            "Increase the number of iterations (max_iter) or scale the data as shown in:\n",
            "    https://scikit-learn.org/stable/modules/preprocessing.html\n",
            "Please also refer to the documentation for alternative solver options:\n",
            "    https://scikit-learn.org/stable/modules/linear_model.html#logistic-regression\n",
            "  extra_warning_msg=_LOGISTIC_SOLVER_CONVERGENCE_MSG)\n",
            "/usr/local/lib/python3.6/dist-packages/sklearn/linear_model/_logistic.py:940: ConvergenceWarning: lbfgs failed to converge (status=1):\n",
            "STOP: TOTAL NO. of ITERATIONS REACHED LIMIT.\n",
            "\n",
            "Increase the number of iterations (max_iter) or scale the data as shown in:\n",
            "    https://scikit-learn.org/stable/modules/preprocessing.html\n",
            "Please also refer to the documentation for alternative solver options:\n",
            "    https://scikit-learn.org/stable/modules/linear_model.html#logistic-regression\n",
            "  extra_warning_msg=_LOGISTIC_SOLVER_CONVERGENCE_MSG)\n",
            "/usr/local/lib/python3.6/dist-packages/sklearn/linear_model/_logistic.py:940: ConvergenceWarning: lbfgs failed to converge (status=1):\n",
            "STOP: TOTAL NO. of ITERATIONS REACHED LIMIT.\n",
            "\n",
            "Increase the number of iterations (max_iter) or scale the data as shown in:\n",
            "    https://scikit-learn.org/stable/modules/preprocessing.html\n",
            "Please also refer to the documentation for alternative solver options:\n",
            "    https://scikit-learn.org/stable/modules/linear_model.html#logistic-regression\n",
            "  extra_warning_msg=_LOGISTIC_SOLVER_CONVERGENCE_MSG)\n",
            "/usr/local/lib/python3.6/dist-packages/sklearn/linear_model/_logistic.py:940: ConvergenceWarning: lbfgs failed to converge (status=1):\n",
            "STOP: TOTAL NO. of ITERATIONS REACHED LIMIT.\n",
            "\n",
            "Increase the number of iterations (max_iter) or scale the data as shown in:\n",
            "    https://scikit-learn.org/stable/modules/preprocessing.html\n",
            "Please also refer to the documentation for alternative solver options:\n",
            "    https://scikit-learn.org/stable/modules/linear_model.html#logistic-regression\n",
            "  extra_warning_msg=_LOGISTIC_SOLVER_CONVERGENCE_MSG)\n",
            "/usr/local/lib/python3.6/dist-packages/sklearn/linear_model/_logistic.py:940: ConvergenceWarning: lbfgs failed to converge (status=1):\n",
            "STOP: TOTAL NO. of ITERATIONS REACHED LIMIT.\n",
            "\n",
            "Increase the number of iterations (max_iter) or scale the data as shown in:\n",
            "    https://scikit-learn.org/stable/modules/preprocessing.html\n",
            "Please also refer to the documentation for alternative solver options:\n",
            "    https://scikit-learn.org/stable/modules/linear_model.html#logistic-regression\n",
            "  extra_warning_msg=_LOGISTIC_SOLVER_CONVERGENCE_MSG)\n",
            "/usr/local/lib/python3.6/dist-packages/sklearn/linear_model/_logistic.py:940: ConvergenceWarning: lbfgs failed to converge (status=1):\n",
            "STOP: TOTAL NO. of ITERATIONS REACHED LIMIT.\n",
            "\n",
            "Increase the number of iterations (max_iter) or scale the data as shown in:\n",
            "    https://scikit-learn.org/stable/modules/preprocessing.html\n",
            "Please also refer to the documentation for alternative solver options:\n",
            "    https://scikit-learn.org/stable/modules/linear_model.html#logistic-regression\n",
            "  extra_warning_msg=_LOGISTIC_SOLVER_CONVERGENCE_MSG)\n",
            "/usr/local/lib/python3.6/dist-packages/sklearn/linear_model/_logistic.py:940: ConvergenceWarning: lbfgs failed to converge (status=1):\n",
            "STOP: TOTAL NO. of ITERATIONS REACHED LIMIT.\n",
            "\n",
            "Increase the number of iterations (max_iter) or scale the data as shown in:\n",
            "    https://scikit-learn.org/stable/modules/preprocessing.html\n",
            "Please also refer to the documentation for alternative solver options:\n",
            "    https://scikit-learn.org/stable/modules/linear_model.html#logistic-regression\n",
            "  extra_warning_msg=_LOGISTIC_SOLVER_CONVERGENCE_MSG)\n"
          ],
          "name": "stderr"
        },
        {
          "output_type": "stream",
          "text": [
            "1.20135340345795 {'lr__C': 5, 'lr__multi_class': 'multinomial', 'lr__solver': 'lbfgs', 'rf__max_depth': 10, 'rf__n_estimators': 20}\n",
            "1.1747765745025731 {'lr__C': 5, 'lr__multi_class': 'multinomial', 'lr__solver': 'lbfgs', 'rf__max_depth': 15, 'rf__n_estimators': 20}\n"
          ],
          "name": "stdout"
        }
      ]
    },
    {
      "cell_type": "markdown",
      "metadata": {
        "id": "ggkpJAvMHgVU"
      },
      "source": [
        "## Evaluating Final Model on Test Dataset"
      ]
    },
    {
      "cell_type": "code",
      "metadata": {
        "colab": {
          "base_uri": "https://localhost:8080/",
          "height": 321
        },
        "id": "HbftZWxEHjDa",
        "outputId": "f650a6ca-e5c9-4d2e-d194-1fc350f48e28"
      },
      "source": [
        "# Evaluate model on the test Set\r\n",
        "\r\n",
        "final_model = grid_search.best_estimator_\r\n",
        "from sklearn.decomposition import PCA\r\n",
        "from sklearn.metrics import accuracy_score\r\n",
        "\r\n",
        "# Remember, you have to use pca object of training dataset (you got on training dataset during dimensionality reduction)\r\n",
        "# and only apply transform on test dataset (not fit_transform) - highly important\r\n",
        "\r\n",
        "X_test_reduced = pca.transform(X_test)\r\n",
        "y_test_predict = final_model.predict(X_test_reduced)\r\n",
        "\r\n",
        "confusion_matrix(y_test, y_test_predict)\r\n",
        "final_accuracy = accuracy_score(y_test, y_test_predict)\r\n",
        "final_precision = precision_score(y_test, y_test_predict, average='weighted')\r\n",
        "final_recall = recall_score(y_test, y_test_predict, average='weighted')\r\n",
        "final_f1_score = f1_score(y_test, y_test_predict, average='weighted')\r\n",
        "\r\n",
        "\r\n",
        "print(\"Final Accuracy: \", final_accuracy)\r\n",
        "print(\"Final Precision: \", final_precision)\r\n",
        "print(\"Final Recall: \", final_recall)\r\n",
        "print(\"Final F1 Score: \", final_f1_score)\r\n",
        "\r\n",
        "# Just check with a sample value, if the predictions were correct\r\n",
        "y_test[0]\r\n",
        "y_test_predict[0]\r\n",
        "showImage(X_test[0])"
      ],
      "execution_count": 118,
      "outputs": [
        {
          "output_type": "stream",
          "text": [
            "Final Accuracy:  0.9289\n",
            "Final Precision:  0.9286755881624962\n",
            "Final Recall:  0.9289\n",
            "Final F1 Score:  0.9286575890829212\n"
          ],
          "name": "stdout"
        },
        {
          "output_type": "display_data",
          "data": {
            "image/png": "[encoded data removed]",
            "text/plain": [
              "<Figure size 432x288 with 1 Axes>"
            ]
          },
          "metadata": {
            "tags": [],
            "needs_background": "light"
          }
        }
      ]
    }
  ]
}